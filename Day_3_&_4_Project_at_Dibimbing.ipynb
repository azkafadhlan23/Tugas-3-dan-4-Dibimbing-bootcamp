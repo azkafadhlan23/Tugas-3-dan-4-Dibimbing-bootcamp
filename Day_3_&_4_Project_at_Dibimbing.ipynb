{
  "nbformat": 4,
  "nbformat_minor": 0,
  "metadata": {
    "colab": {
      "name": "Day 3 & 4 Project at Dibimbing.ipynb",
      "provenance": [],
      "collapsed_sections": [],
      "authorship_tag": "ABX9TyMhWdF/U/ADFz5d0TvgUfPJ",
      "include_colab_link": true
    },
    "kernelspec": {
      "name": "python3",
      "display_name": "Python 3"
    },
    "language_info": {
      "name": "python"
    }
  },
  "cells": [
    {
      "cell_type": "markdown",
      "metadata": {
        "id": "view-in-github",
        "colab_type": "text"
      },
      "source": [
        "<a href=\"https://colab.research.google.com/github/azkafadhlan23/Tugas-3-dan-4-Dibimbing-bootcamp/blob/main/Day_3_%26_4_Project_at_Dibimbing.ipynb\" target=\"_parent\"><img src=\"https://colab.research.google.com/assets/colab-badge.svg\" alt=\"Open In Colab\"/></a>"
      ]
    },
    {
      "cell_type": "code",
      "execution_count": 52,
      "metadata": {
        "colab": {
          "base_uri": "https://localhost:8080/"
        },
        "id": "VQM4AtVSX2--",
        "outputId": "04f9343e-7eec-4300-e259-52b866de3aa6"
      },
      "outputs": [
        {
          "output_type": "stream",
          "name": "stdout",
          "text": [
            "masukan nama kamu :azka\n",
            "Halo azka\n"
          ]
        }
      ],
      "source": [
        "#soal basic no.1\n",
        "a = input(\"masukan nama kamu :\") #soal basic no.1\n",
        "print(\"Halo\", a)"
      ]
    },
    {
      "cell_type": "code",
      "source": [
        "#soal basic no.2\n",
        "def perkalian(c,d): \n",
        "    return c*d\n",
        "result = perkalian(2,7) #masukan angka disini\n",
        "e = result\n",
        "f = result*0.0001 \n",
        "print(\"luas dalam meter persegi:\", e)\n",
        "print(\"luas dalam hectare:\", f)\n",
        "\n"
      ],
      "metadata": {
        "colab": {
          "base_uri": "https://localhost:8080/"
        },
        "id": "F5RF3uKvX5DH",
        "outputId": "a137123d-f1b2-4fd0-ae5c-c35554c97deb"
      },
      "execution_count": 53,
      "outputs": [
        {
          "output_type": "stream",
          "name": "stdout",
          "text": [
            "luas dalam meter persegi: 14\n",
            "luas dalam hectare: 0.0014\n"
          ]
        }
      ]
    },
    {
      "cell_type": "code",
      "source": [
        "#soal basic no.3\n",
        "n=10 #masukan nilai disini\n",
        "t=(1+n)\n",
        "z=list(range(t))\n",
        "print(\"penjumlahan deret berikut:\", z)\n",
        "print(\"adalah :\", sum(list(range(t))))\n"
      ],
      "metadata": {
        "colab": {
          "base_uri": "https://localhost:8080/"
        },
        "id": "Ona9JwkTdjM2",
        "outputId": "eb42e2d9-484a-49fc-bb52-357bef6c01ac"
      },
      "execution_count": 54,
      "outputs": [
        {
          "output_type": "stream",
          "name": "stdout",
          "text": [
            "penjumlahan deret berikut: [0, 1, 2, 3, 4, 5, 6, 7, 8, 9, 10]\n",
            "adalah : 55\n"
          ]
        }
      ]
    },
    {
      "cell_type": "code",
      "source": [
        "#soal basic no.4\n",
        "def luas_segitiga_alasXtinggi(g,h):\n",
        "  return g*h/2\n",
        "result = luas_segitiga_alasXtinggi(3,5)\n",
        "\n",
        "import math as mt\n",
        "def luas_segitiga_rumus_heron(i,j,k):\n",
        "  m=0.5*(i+j+k)\n",
        "  o=m*((m-i)*(m-k)*(m-j))\n",
        "  return mt.sqrt(o)\n",
        "\n"
      ],
      "metadata": {
        "id": "dIeCDOmjfx8M"
      },
      "execution_count": 55,
      "outputs": []
    },
    {
      "cell_type": "code",
      "source": [
        "luas_segitiga_rumus_heron(4,3,5) #masukan nilai disini"
      ],
      "metadata": {
        "colab": {
          "base_uri": "https://localhost:8080/"
        },
        "id": "Yvhsq2LAq26j",
        "outputId": "da562a1f-9fb1-4810-a1c4-63164b0b7b4a"
      },
      "execution_count": 56,
      "outputs": [
        {
          "output_type": "execute_result",
          "data": {
            "text/plain": [
              "6.0"
            ]
          },
          "metadata": {},
          "execution_count": 56
        }
      ]
    },
    {
      "cell_type": "code",
      "source": [
        "luas_segitiga_alasXtinggi(3,4) #masukan nilai disini"
      ],
      "metadata": {
        "colab": {
          "base_uri": "https://localhost:8080/"
        },
        "id": "zcswRgoC0-Ks",
        "outputId": "46861b3c-50c0-4fde-dfce-01268cd5093d"
      },
      "execution_count": 57,
      "outputs": [
        {
          "output_type": "execute_result",
          "data": {
            "text/plain": [
              "6.0"
            ]
          },
          "metadata": {},
          "execution_count": 57
        }
      ]
    },
    {
      "cell_type": "code",
      "source": [
        "#soal basic no.5\n",
        "magnitude = 4 #masukan nilai disini\n",
        "if magnitude <2.0 :\n",
        "  print(\"it described as micro earthquake. effect : normally only recorded by seismographs. most people cannot feel them. frequency : millions per year\")\n",
        "elif magnitude<2.9 :\n",
        "  print(\"it described as minor earthquake. effect : a few people can feel them, no building damaged. frequency : over 1 million per year\")\n",
        "elif magnitude<3.9 :\n",
        "  print(\"it described as minor earthquake. effect : some people feel them, objects inside can be seen shaking. frequency : over 100,000 per year\")\n",
        "elif magnitude<4.9 :\n",
        "  print(\"it described as light earthquake. effect : most people feel it. indoor objects shake or fall to floor. frequency : 10,000 to 15,000 per year.\")\n",
        "elif magnitude<5.9 :\n",
        "  print(\"it described as moderate earthquake. effect : can damage or destroy buildings not desighned to withstand earthquakes. everyonefeels it. frequency : 1,000 to 1,500 per year\")\n",
        "elif magnitude<6.9 :\n",
        "  print(\" it described as strong earthquake. effect : wide spread shaking far from epicenter. damages buildings. frequency : 100 to 150 per year\")\n",
        "elif magnitude<7.9 :\n",
        "  print(\"it described as major earthquake. effect : wide spread damage in most areas. frequency : 10 to 20 per year\")\n",
        "elif magnitude<8.9 :\n",
        "  print(\"it described  as great earthquake. effect : wide spread damage in large areas. frequency : about 1 per year\")\n",
        "elif magnitude<9.9 :\n",
        "  print(\"it described as great earthquake. effect : severe damage to most buildings. frequency : 1 per 5-50 years\")\n",
        "elif magnitude>10 :\n",
        "  print(\" it described as massivev earthquake. effect : never recorded. frequency : never recorded.\")\n"
      ],
      "metadata": {
        "colab": {
          "base_uri": "https://localhost:8080/"
        },
        "id": "L0S2b5Ge3Dt0",
        "outputId": "e2588c47-e264-4e7c-e133-80cc20a460b5"
      },
      "execution_count": 58,
      "outputs": [
        {
          "output_type": "stream",
          "name": "stdout",
          "text": [
            "it described as light earthquake. effect : most people feel it. indoor objects shake or fall to floor. frequency : 10,000 to 15,000 per year.\n"
          ]
        }
      ]
    },
    {
      "cell_type": "code",
      "source": [
        "#soal advance no.1\n",
        "import numpy as np\n",
        "import pandas as pd\n",
        "import matplotlib.pyplot as plt\n",
        "Z = pd.read_csv('https://raw.githubusercontent.com/hadimaster65555/dataset_for_teaching/main/dataset/linear_regression_simulation_data/linear-regression.csv', delimiter=',')\n",
        "H = np.matrix(Z)\n",
        "plt.rcParams['figure.figsize'] = [10,5]\n",
        "x = np.array(H[:,0])\n",
        "y = np.array(H[:,1])\n",
        "plt.plot(x,y,'o', label = 'nilai acak')\n",
        "plt.xlabel('nilai x')\n",
        "plt.ylabel('nilai y')\n",
        "plt.title('hubungan x dan y')\n",
        "plt.legend()\n",
        "plt.show()"
      ],
      "metadata": {
        "colab": {
          "base_uri": "https://localhost:8080/",
          "height": 350
        },
        "id": "kyi4IxAbCh4S",
        "outputId": "2dc11aa5-831a-43c8-a253-105ef1626904"
      },
      "execution_count": 59,
      "outputs": [
        {
          "output_type": "display_data",
          "data": {
            "text/plain": [
              "<Figure size 720x360 with 1 Axes>"
            ],
            "image/png": "[encoded data removed]"
          },
          "metadata": {
            "needs_background": "light"
          }
        }
      ]
    },
    {
      "cell_type": "code",
      "source": [
        "#soal advance no.2\n",
        "import pandas as pd\n",
        "import numpy as np\n",
        "M = pd.read_csv('https://raw.githubusercontent.com/hadimaster65555/dataset_for_teaching/main/dataset/linear_regression_simulation_data/linear-regression.csv', delimiter=',')\n",
        "N = np.matrix(M)\n",
        "L = np.matrix(N[:,0])\n",
        "L1 = np.matrix(N[:,1])\n",
        "O = L.T #A transpose\n",
        "P = O*L #AxAtranspose\n",
        "Q = np.linalg.inv(P) #(AxAtranspose)^-1\n",
        "R = Q*O   #(AxAtranspose)^-1xAtranspose\n",
        "T = R*(np.array(N[:,1])) #koefisien\n",
        "U = (np.matrix(N[:,1]))*T\n",
        "import matplotlib.pyplot as plt\n",
        "plt.rcParams['figure.figsize'] = [10,5]\n",
        "plt.plot(L,U,'o', label = 'dataset matrix')\n",
        "plt.plot(L, L*7+9.3, 'r', label = 'fitted line')\n",
        "plt.text(0.5,4,  r\"$\\beta_0 = 3.922$\",fontsize = 14, color = 'b')\n",
        "plt.text(0.5,3, r\"$\\beta_0 = 2.981$\" , fontsize = 14, color = 'b')\n",
        "plt.xlabel('nilai x')\n",
        "plt.ylabel('nilai y')\n",
        "plt.title('hubungan x dan y')\n",
        "plt.legend()\n",
        "plt.show()"
      ],
      "metadata": {
        "colab": {
          "base_uri": "https://localhost:8080/",
          "height": 350
        },
        "id": "60TupIRBfgku",
        "outputId": "676d1825-95b1-4fbf-83e6-11fd3aa6a735"
      },
      "execution_count": 61,
      "outputs": [
        {
          "output_type": "display_data",
          "data": {
            "text/plain": [
              "<Figure size 720x360 with 1 Axes>"
            ],
            "image/png": "[encoded data removed]"
          },
          "metadata": {
            "needs_background": "light"
          }
        }
      ]
    },
    {
      "cell_type": "code",
      "source": [
        "#soal advance no.3   \n",
        "import pandas as pd\n",
        "import numpy as np\n",
        "A1 = pd.read_csv('https://raw.githubusercontent.com/hadimaster65555/dataset_for_teaching/main/dataset/linear_regression_simulation_data/linear-regression.csv', delimiter=',')\n",
        "B1 = np.matrix(A1)\n",
        "C1 = np.matrix(B1[:,0])\n",
        "F1 = np.matrix(B1[:,1])\n",
        "#print(C1, np.stack\n",
        "D1 = np.vstack(np.ones(len(C1)))\n",
        "E1 = np.column_stack((C1,D1))\n",
        "m, c = np.linalg.lstsq(E1, np.matrix(B1[:,1]))[0]\n",
        "import matplotlib.pyplot as plt\n",
        "plt.rcParams['figure.figsize'] = [10,5]\n",
        "plt.plot(C1,F1, 'o', label = 'dataset matrix')\n",
        "plt.plot(C1, C1*m + c, 'r', label = 'fitted line')\n",
        "plt.text(0.5,2, r\"$\\beta_0 = 3.992$\", fontsize = 14, color = 'b')\n",
        "plt.text(0.5,1.5, r\"$\\beta_0 = 2.981$\", fontsize = 14, color = 'b')\n",
        "plt.title('hubungan x dan y')\n",
        "plt.legend()\n",
        "plt.show()\n"
      ],
      "metadata": {
        "colab": {
          "base_uri": "https://localhost:8080/",
          "height": 411
        },
        "id": "6RJHhEUrv0uO",
        "outputId": "1213e5cd-7d0c-4585-da34-3b81d895fc65"
      },
      "execution_count": 62,
      "outputs": [
        {
          "output_type": "stream",
          "name": "stderr",
          "text": [
            "/usr/local/lib/python3.7/dist-packages/ipykernel_launcher.py:11: FutureWarning: `rcond` parameter will change to the default of machine precision times ``max(M, N)`` where M and N are the input matrix dimensions.\n",
            "To use the future default and silence this warning we advise to pass `rcond=None`, to keep using the old, explicitly pass `rcond=-1`.\n",
            "  # This is added back by InteractiveShellApp.init_path()\n"
          ]
        },
        {
          "output_type": "display_data",
          "data": {
            "text/plain": [
              "<Figure size 720x360 with 1 Axes>"
            ],
            "image/png": "[encoded data removed]"
          },
          "metadata": {
            "needs_background": "light"
          }
        }
      ]
    },
    {
      "cell_type": "markdown",
      "source": [
        ""
      ],
      "metadata": {
        "id": "fBHZsYlnSVRc"
      }
    }
  ]
}